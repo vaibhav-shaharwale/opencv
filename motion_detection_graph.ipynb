{
 "cells": [
  {
   "cell_type": "code",
   "execution_count": 1,
   "metadata": {},
   "outputs": [],
   "source": [
    "#from motion_detection import df\n",
    "import pandas as pd\n",
    "from bokeh.plotting import figure, show, output_file\n",
    "from bokeh.models import HoverTool, ColumnarDataSource"
   ]
  },
  {
   "cell_type": "code",
   "execution_count": null,
   "metadata": {},
   "outputs": [],
   "source": [
    "df = pd.read_csv('Times.csv')\n",
    "df[\"Start_String\"] = df[\"Start\"].dt.strftime(\"%Y-%m-%d %H:%M:%S\")\n",
    "df[\"End_String\"] = df[\"End\"].dt.strftime(\"%Y-%m-%d %H:%M:%S\")\n",
    "\n",
    "cds = ColumnarDataSource(df)\n",
    "\n",
    "p = figure(x_axis_type=\"datetime\", height=120, width=600, responsive=True, title=\"Motion Graph\")\n",
    "p.yaxis.minor_tick_line_color = None\n",
    "p.ygrid[0].ticker.desired_num_ticks = 1\n",
    "\n",
    "hover = HoverTool(tooltips=[(\"Start\", \"@Start_string\"), (\"End\", \"@End_string\")])\n",
    "p.add_tools(hover)\n",
    "\n",
    "q = p.quad(left=\"Start\", right=\"End\", bottom=0, top=1, color=\"red\", source=cds)\n",
    "\n",
    "output_file(\"Motion_Detection_Graph.html\")\n",
    "show(p)"
   ]
  },
  {
   "cell_type": "code",
   "execution_count": null,
   "metadata": {},
   "outputs": [],
   "source": []
  }
 ],
 "metadata": {
  "kernelspec": {
   "display_name": "base",
   "language": "python",
   "name": "python3"
  },
  "language_info": {
   "codemirror_mode": {
    "name": "ipython",
    "version": 3
   },
   "file_extension": ".py",
   "mimetype": "text/x-python",
   "name": "python",
   "nbconvert_exporter": "python",
   "pygments_lexer": "ipython3",
   "version": "3.9.12"
  },
  "orig_nbformat": 4,
  "vscode": {
   "interpreter": {
    "hash": "7199ef7af2be396f8272c772dab15d0b8bb336c60216fde39d64c1e2e09d623b"
   }
  }
 },
 "nbformat": 4,
 "nbformat_minor": 2
}
