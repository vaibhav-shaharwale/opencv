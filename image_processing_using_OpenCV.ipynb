{
 "cells": [
  {
   "cell_type": "code",
   "execution_count": 1,
   "metadata": {},
   "outputs": [],
   "source": [
    "import cv2\n",
    "import numpy as np"
   ]
  },
  {
   "attachments": {},
   "cell_type": "markdown",
   "metadata": {},
   "source": [
    "# Reading image"
   ]
  },
  {
   "cell_type": "code",
   "execution_count": 3,
   "metadata": {},
   "outputs": [
    {
     "name": "stdout",
     "output_type": "stream",
     "text": [
      "(485, 970, 3)\n"
     ]
    }
   ],
   "source": [
    "img = cv2.imread(\"pic1.jpg\")\n",
    "print(img.shape)"
   ]
  },
  {
   "attachments": {},
   "cell_type": "markdown",
   "metadata": {},
   "source": [
    "# Show image"
   ]
  },
  {
   "cell_type": "code",
   "execution_count": 5,
   "metadata": {},
   "outputs": [
    {
     "data": {
      "text/plain": [
       "-1"
      ]
     },
     "execution_count": 5,
     "metadata": {},
     "output_type": "execute_result"
    }
   ],
   "source": [
    "cv2.imshow(\"window\", img)\n",
    "cv2.waitKey(0)      # delay to close the window"
   ]
  },
  {
   "attachments": {},
   "cell_type": "markdown",
   "metadata": {},
   "source": [
    "# Convert to grayscale"
   ]
  },
  {
   "cell_type": "code",
   "execution_count": 6,
   "metadata": {},
   "outputs": [
    {
     "name": "stdout",
     "output_type": "stream",
     "text": [
      "(485, 970)\n"
     ]
    }
   ],
   "source": [
    "img = cv2.imread(\"pic1.jpg\")\n",
    "img_gray = cv2.cvtColor(img, cv2.COLOR_BGR2GRAY)\n",
    "cv2.imshow(\"windows\", img_gray)\n",
    "cv2.waitKey(0)\n",
    "\n",
    "print(img_gray.shape)"
   ]
  },
  {
   "cell_type": "markdown",
   "metadata": {},
   "source": [
    "# Playing with color channel"
   ]
  },
  {
   "cell_type": "code",
   "execution_count": 7,
   "metadata": {},
   "outputs": [
    {
     "data": {
      "text/plain": [
       "-1"
      ]
     },
     "execution_count": 7,
     "metadata": {},
     "output_type": "execute_result"
    }
   ],
   "source": [
    "# img[height, width, channel]\n",
    "# in cv2 channels are encoded as BGR\n",
    "#  0 : Blue, 1 : Green, 2 : Red\n",
    "\n",
    "img = cv2.imread(\"pic1.jpg\")\n",
    "\n",
    "img[:,:,0]=0        # Change pixel value of channel 0 (Blue) to 0\n",
    "cv2.imshow(\"windows\", img)\n",
    "cv2.waitKey(0)"
   ]
  },
  {
   "cell_type": "code",
   "execution_count": 8,
   "metadata": {},
   "outputs": [
    {
     "data": {
      "text/plain": [
       "-1"
      ]
     },
     "execution_count": 8,
     "metadata": {},
     "output_type": "execute_result"
    }
   ],
   "source": [
    "img = cv2.imread(\"pic1.jpg\")\n",
    "\n",
    "img[:,:,1]=0\n",
    "cv2.imshow(\"windows\", img)\n",
    "cv2.waitKey(0)"
   ]
  },
  {
   "cell_type": "code",
   "execution_count": 9,
   "metadata": {},
   "outputs": [
    {
     "data": {
      "text/plain": [
       "-1"
      ]
     },
     "execution_count": 9,
     "metadata": {},
     "output_type": "execute_result"
    }
   ],
   "source": [
    "img = cv2.imread(\"pic1.jpg\")\n",
    "\n",
    "img[:,:,2]=0\n",
    "cv2.imshow(\"windows\", img)\n",
    "cv2.waitKey(0)"
   ]
  },
  {
   "cell_type": "code",
   "execution_count": 12,
   "metadata": {},
   "outputs": [
    {
     "data": {
      "text/plain": [
       "-1"
      ]
     },
     "execution_count": 12,
     "metadata": {},
     "output_type": "execute_result"
    }
   ],
   "source": [
    "# image Stacking\n",
    "\n",
    "img = cv2.imread(\"pic.jpg\")\n",
    "\n",
    "img_blue = img[:,:,0]\n",
    "img_green = img[:,:,1]\n",
    "img_red = img[:,:,2]\n",
    "\n",
    "stacked_img = np.hstack((img_blue,img_green,img_red))\n",
    "cv2.imshow(\"windows\", stacked_img)\n",
    "cv2.waitKey(0)"
   ]
  },
  {
   "attachments": {},
   "cell_type": "markdown",
   "metadata": {},
   "source": [
    "# Resize"
   ]
  },
  {
   "cell_type": "code",
   "execution_count": 13,
   "metadata": {},
   "outputs": [
    {
     "data": {
      "text/plain": [
       "(200, 200, 3)"
      ]
     },
     "execution_count": 13,
     "metadata": {},
     "output_type": "execute_result"
    }
   ],
   "source": [
    "img = cv2.imread(\"pic1.jpg\")\n",
    "img_resize = cv2.resize(img, (200, 200))\n",
    "cv2.imshow(\"windows\", img_resize)\n",
    "cv2.waitKey(0)\n",
    "img_resize.shape"
   ]
  },
  {
   "cell_type": "code",
   "execution_count": 14,
   "metadata": {},
   "outputs": [
    {
     "name": "stdout",
     "output_type": "stream",
     "text": [
      "original shape: (485, 970, 3)\n",
      "new shape : (242, 485, 3)\n"
     ]
    },
    {
     "data": {
      "text/plain": [
       "-1"
      ]
     },
     "execution_count": 14,
     "metadata": {},
     "output_type": "execute_result"
    }
   ],
   "source": [
    "# Resize to half size\n",
    "\n",
    "img = cv2.imread(\"pic1.jpg\")\n",
    "\n",
    "img_resize = cv2.resize(img, (img.shape[1]//2, img.shape[0]//2))        # cv2.resize(img, (width, height))\n",
    "cv2.imshow(\"windows\", img_resize)\n",
    "print(\"original shape:\", img.shape)\n",
    "print(\"new shape :\", img_resize.shape)\n",
    "cv2.waitKey(0)"
   ]
  },
  {
   "attachments": {},
   "cell_type": "markdown",
   "metadata": {},
   "source": [
    "# Flipping image"
   ]
  },
  {
   "cell_type": "code",
   "execution_count": 15,
   "metadata": {},
   "outputs": [
    {
     "data": {
      "text/plain": [
       "-1"
      ]
     },
     "execution_count": 15,
     "metadata": {},
     "output_type": "execute_result"
    }
   ],
   "source": [
    "# 0 : vertical flip\n",
    "# 1 : horizontal flip\n",
    "# -1 : vertical & horizontal (combine) flip\n",
    "\n",
    "img = cv2.imread('pic.jpg')\n",
    "\n",
    "img_vflip = cv2.flip(img, 0)\n",
    "img_hflip = cv2.flip(img, 1)\n",
    "img_cflip = cv2.flip(img, -1)\n",
    "\n",
    "img_stack = np.hstack((img, img_vflip, img_hflip, img_cflip))\n",
    "cv2.imshow(\"windows\", img_stack)\n",
    "cv2.waitKey(0)"
   ]
  },
  {
   "attachments": {},
   "cell_type": "markdown",
   "metadata": {},
   "source": [
    "# Cropping"
   ]
  },
  {
   "cell_type": "code",
   "execution_count": 17,
   "metadata": {},
   "outputs": [
    {
     "data": {
      "text/plain": [
       "-1"
      ]
     },
     "execution_count": 17,
     "metadata": {},
     "output_type": "execute_result"
    }
   ],
   "source": [
    "# Top left is the origin of image\n",
    "# cropping is like slicing metrix\n",
    "# img[height, width]\n",
    "\n",
    "img = cv2.imread('pic1.jpg')\n",
    "img_crop = img[100:400,200:700]\n",
    "\n",
    "cv2.imshow(\"windows\", img_crop)\n",
    "cv2.waitKey(0)"
   ]
  },
  {
   "attachments": {},
   "cell_type": "markdown",
   "metadata": {},
   "source": [
    "# Save image"
   ]
  },
  {
   "cell_type": "code",
   "execution_count": 18,
   "metadata": {},
   "outputs": [
    {
     "data": {
      "text/plain": [
       "True"
      ]
     },
     "execution_count": 18,
     "metadata": {},
     "output_type": "execute_result"
    }
   ],
   "source": [
    "img = cv2.imread('pic.jpg')\n",
    "img_vflip = cv2.flip(img, 0)\n",
    "img_hflip = cv2.flip(img, 1)\n",
    "img_cflip = cv2.flip(img, -1)\n",
    "img_stack = np.hstack((img, img_vflip, img_hflip, img_cflip))\n",
    "\n",
    "cv2.imwrite('imgstack.png', img_stack)"
   ]
  },
  {
   "attachments": {},
   "cell_type": "markdown",
   "metadata": {},
   "source": [
    "# Closing image with keyboard"
   ]
  },
  {
   "cell_type": "code",
   "execution_count": 19,
   "metadata": {},
   "outputs": [],
   "source": [
    "img = cv2.imread('pic1.jpg')\n",
    "\n",
    "while True:         # infinite loop\n",
    "    \n",
    "    cv2.imshow(\"windows\", img)\n",
    "\n",
    "    if cv2.waitKey(1) & 0xFF == ord('q'):       # close image window by pressing q\n",
    "        break                                   # break loop\n",
    "\n",
    "cv2.destroyAllWindows()                         # close all windows"
   ]
  },
  {
   "cell_type": "markdown",
   "metadata": {},
   "source": [
    "# Drawing shape on image"
   ]
  },
  {
   "cell_type": "code",
   "execution_count": 20,
   "metadata": {},
   "outputs": [
    {
     "data": {
      "text/plain": [
       "-1"
      ]
     },
     "execution_count": 20,
     "metadata": {},
     "output_type": "execute_result"
    }
   ],
   "source": [
    "img = cv2.imread('pic1.jpg')\n",
    "\n",
    "# Rectangle\n",
    "cv2.rectangle(img, pt1=(50,50), pt2=(900,400), color=(0,0,255), thickness=1)    #(width,height)\n",
    "cv2.imshow(\"windows\", img)\n",
    "cv2.waitKey(0)"
   ]
  },
  {
   "cell_type": "code",
   "execution_count": 21,
   "metadata": {},
   "outputs": [
    {
     "data": {
      "text/plain": [
       "-1"
      ]
     },
     "execution_count": 21,
     "metadata": {},
     "output_type": "execute_result"
    }
   ],
   "source": [
    "# Circle\n",
    "img = cv2.imread('pic1.jpg')\n",
    "\n",
    "cv2.circle(img, center=(485, 242), radius=200, color=(255,0,0), thickness=2)\n",
    "cv2.imshow(\"windows\", img)\n",
    "cv2.waitKey(0)"
   ]
  },
  {
   "cell_type": "code",
   "execution_count": 22,
   "metadata": {},
   "outputs": [
    {
     "data": {
      "text/plain": [
       "-1"
      ]
     },
     "execution_count": 22,
     "metadata": {},
     "output_type": "execute_result"
    }
   ],
   "source": [
    "# Line\n",
    "img = cv2.imread('pic1.jpg')\n",
    "\n",
    "cv2.line(img, pt1=(100,50), pt2=(700,400), color=(0,255,0), lineType=cv2.LINE_AA)\n",
    "cv2.imshow(\"windows\", img)\n",
    "cv2.waitKey(0)"
   ]
  },
  {
   "cell_type": "code",
   "execution_count": 23,
   "metadata": {},
   "outputs": [
    {
     "data": {
      "text/plain": [
       "-1"
      ]
     },
     "execution_count": 23,
     "metadata": {},
     "output_type": "execute_result"
    }
   ],
   "source": [
    "# Text\n",
    "img = cv2.imread('pic1.jpg')\n",
    "\n",
    "cv2.putText(img, text=\"hello\", org=(300,150), color=(255,255,0), fontScale=5, thickness=4, \n",
    "            lineType=cv2.LINE_AA, fontFace=cv2.FONT_HERSHEY_SCRIPT_COMPLEX)\n",
    "cv2.imshow(\"windows\", img)\n",
    "cv2.waitKey(0)"
   ]
  },
  {
   "cell_type": "code",
   "execution_count": 24,
   "metadata": {},
   "outputs": [
    {
     "data": {
      "text/plain": [
       "-1"
      ]
     },
     "execution_count": 24,
     "metadata": {},
     "output_type": "execute_result"
    }
   ],
   "source": [
    "img = cv2.imread('pic1.jpg')\n",
    "\n",
    "cv2.rectangle(img, pt1=(50,50), pt2=(900,400), color=(0,0,255), thickness=1)\n",
    "cv2.circle(img, center=(485, 242), radius=200, color=(255,0,0), thickness=2)\n",
    "cv2.line(img, pt1=(100,50), pt2=(700,400), color=(0,255,0), lineType=cv2.LINE_AA)\n",
    "cv2.putText(img, text=\"hello\", org=(300,150), color=(255,255,0), fontScale=5, thickness=4, \n",
    "            lineType=cv2.LINE_AA, fontFace=cv2.FONT_HERSHEY_SCRIPT_COMPLEX)\n",
    "cv2.circle(img, center=(150, 350), radius=100, color=(255,0,0), thickness=-1)    # filled circle\n",
    "\n",
    "cv2.imshow(\"windows\", img)\n",
    "cv2.waitKey(0)"
   ]
  },
  {
   "cell_type": "markdown",
   "metadata": {},
   "source": [
    "# Drawing shape with mouse"
   ]
  },
  {
   "cell_type": "code",
   "execution_count": 25,
   "metadata": {},
   "outputs": [],
   "source": [
    "# event of mouse\n",
    "    # event 0 : mouse moved\n",
    "    # event 1 : left key pressed\n",
    "    # event 4 : left key released\n",
    "    # event 2 : right key pressed\n",
    "    # event 5 : right key released\n",
    "    # event 3 : center key pressed\n",
    "    # event 6 : center key released\n",
    "    # event 10 : moving ball\n",
    "\n",
    "img = cv2.imread('pic1.jpg')\n",
    "\n",
    "#flag = False\n",
    "def draw(event,x,y,flag,params):\n",
    "    \n",
    "    if event == 1:      # when left key is pressed\n",
    "        cv2.circle(img, center=(x,y), radius=100, color=(255,0,255), thickness=1)  # Draw circle in image at cursors location\n",
    "\n",
    "cv2.namedWindow(winname=\"windows\")\n",
    "cv2.setMouseCallback(\"windows\", draw)       # cv2.setMouseCallback(working_window, function_to_call)\n",
    "\n",
    "while True:         # infinite loop\n",
    "\n",
    "    cv2.imshow(\"windows\", img)\n",
    "\n",
    "    if cv2.waitKey(1) & 0xFF == ord('q'):       # close window by pressing q\n",
    "        break                                   # break loop\n",
    "\n",
    "cv2.destroyAllWindows()  "
   ]
  },
  {
   "cell_type": "code",
   "execution_count": null,
   "metadata": {},
   "outputs": [],
   "source": []
  }
 ],
 "metadata": {
  "kernelspec": {
   "display_name": "Python 3",
   "language": "python",
   "name": "python3"
  },
  "language_info": {
   "codemirror_mode": {
    "name": "ipython",
    "version": 3
   },
   "file_extension": ".py",
   "mimetype": "text/x-python",
   "name": "python",
   "nbconvert_exporter": "python",
   "pygments_lexer": "ipython3",
   "version": "3.10.6 (tags/v3.10.6:9c7b4bd, Aug  1 2022, 21:53:49) [MSC v.1932 64 bit (AMD64)]"
  },
  "orig_nbformat": 4,
  "vscode": {
   "interpreter": {
    "hash": "d3e10ef16274dd72e574b8fa73b58450b957d8421a2901baded3cca26fcf5dda"
   }
  }
 },
 "nbformat": 4,
 "nbformat_minor": 2
}
